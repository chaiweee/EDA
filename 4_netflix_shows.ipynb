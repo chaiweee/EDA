{
 "cells": [
  {
   "cell_type": "code",
   "execution_count": 1,
   "id": "50c79afc",
   "metadata": {
    "_cell_guid": "b1076dfc-b9ad-4769-8c92-a6c4dae69d19",
    "_uuid": "8f2839f25d086af736a60e9eeb907d3b93b6e0e5",
    "execution": {
     "iopub.execute_input": "2023-04-29T00:40:08.412071Z",
     "iopub.status.busy": "2023-04-29T00:40:08.411674Z",
     "iopub.status.idle": "2023-04-29T00:40:09.586025Z",
     "shell.execute_reply": "2023-04-29T00:40:09.584300Z"
    },
    "papermill": {
     "duration": 1.190037,
     "end_time": "2023-04-29T00:40:09.588988",
     "exception": false,
     "start_time": "2023-04-29T00:40:08.398951",
     "status": "completed"
    },
    "tags": []
   },
   "outputs": [
    {
     "name": "stdout",
     "output_type": "stream",
     "text": [
      "/kaggle/input/netflix-shows/netflix_titles.csv\n"
     ]
    }
   ],
   "source": [
    "# This Python 3 environment comes with many helpful analytics libraries installed\n",
    "# It is defined by the kaggle/python Docker image: https://github.com/kaggle/docker-python\n",
    "# For example, here's several helpful packages to load\n",
    "\n",
    "import numpy as np # linear algebra\n",
    "import pandas as pd # data processing, CSV file I/O (e.g. pd.read_csv)\n",
    "import matplotlib.pyplot as plt\n",
    "import seaborn as sns\n",
    "import os\n",
    "plt.style.use('seaborn-whitegrid')\n",
    "sns.set_style('whitegrid')\n",
    "for dirname, _, filenames in os.walk('/kaggle/input'):\n",
    "    for filename in filenames:\n",
    "        print(os.path.join(dirname, filename))"
   ]
  },
  {
   "cell_type": "code",
   "execution_count": 2,
   "id": "1c55d09c",
   "metadata": {
    "execution": {
     "iopub.execute_input": "2023-04-29T00:40:09.610407Z",
     "iopub.status.busy": "2023-04-29T00:40:09.609512Z",
     "iopub.status.idle": "2023-04-29T00:40:09.744480Z",
     "shell.execute_reply": "2023-04-29T00:40:09.743408Z"
    },
    "papermill": {
     "duration": 0.148235,
     "end_time": "2023-04-29T00:40:09.746980",
     "exception": false,
     "start_time": "2023-04-29T00:40:09.598745",
     "status": "completed"
    },
    "tags": []
   },
   "outputs": [
    {
     "name": "stdout",
     "output_type": "stream",
     "text": [
      "Done!\n"
     ]
    }
   ],
   "source": [
    "df=pd.read_csv('/kaggle/input/netflix-shows/netflix_titles.csv')\n",
    "print('Done!')"
   ]
  },
  {
   "cell_type": "code",
   "execution_count": 3,
   "id": "f3f287bb",
   "metadata": {
    "execution": {
     "iopub.execute_input": "2023-04-29T00:40:09.768165Z",
     "iopub.status.busy": "2023-04-29T00:40:09.767241Z",
     "iopub.status.idle": "2023-04-29T00:40:09.786374Z",
     "shell.execute_reply": "2023-04-29T00:40:09.784872Z"
    },
    "papermill": {
     "duration": 0.032306,
     "end_time": "2023-04-29T00:40:09.788831",
     "exception": false,
     "start_time": "2023-04-29T00:40:09.756525",
     "status": "completed"
    },
    "tags": []
   },
   "outputs": [
    {
     "name": "stdout",
     "output_type": "stream",
     "text": [
      "netflix movies and shows:  8807\n",
      "dataset variables:  12\n",
      "----------\n",
      "dateset columns: \n",
      "\n",
      "Index(['show_id', 'type', 'title', 'director', 'cast', 'country', 'date_added',\n",
      "       'release_year', 'rating', 'duration', 'listed_in', 'description'],\n",
      "      dtype='object')\n",
      "----------\n",
      "data-type of each column: \n",
      "\n",
      "show_id         object\n",
      "type            object\n",
      "title           object\n",
      "director        object\n",
      "cast            object\n",
      "country         object\n",
      "date_added      object\n",
      "release_year     int64\n",
      "rating          object\n",
      "duration        object\n",
      "listed_in       object\n",
      "description     object\n",
      "dtype: object\n",
      "----------\n",
      "missing rows in each column: \n",
      "\n",
      "director      2634\n",
      "cast           825\n",
      "country        831\n",
      "date_added      10\n",
      "rating           4\n",
      "duration         3\n",
      "dtype: int64\n"
     ]
    }
   ],
   "source": [
    "def data_inv(df):\n",
    "    print('netflix movies and shows: ',df.shape[0])\n",
    "    print('dataset variables: ',df.shape[1])\n",
    "    print('-'*10)\n",
    "    print('dateset columns: \\n')\n",
    "    print(df.columns)\n",
    "    print('-'*10)\n",
    "    print('data-type of each column: \\n')\n",
    "    print(df.dtypes)\n",
    "    print('-'*10)\n",
    "    print('missing rows in each column: \\n')\n",
    "    c=df.isnull().sum()\n",
    "    print(c[c>0])\n",
    "data_inv(df)"
   ]
  },
  {
   "cell_type": "markdown",
   "id": "67871a7e",
   "metadata": {
    "papermill": {
     "duration": 0.01065,
     "end_time": "2023-04-29T00:40:09.809236",
     "exception": false,
     "start_time": "2023-04-29T00:40:09.798586",
     "status": "completed"
    },
    "tags": []
   },
   "source": [
    "## Data Cleaning\n",
    "Drop id column  \n",
    "Drop dublicate shows  \n",
    "create a new column shows the number of cast in each row  \n",
    "we have 10 missing rows in rating column, replace them by the mode  \n",
    "for the missing rows in added_date column, replace them by January 1,{release_year}  \n",
    "I think we can not replace missing rows in column country by other countries, but we can use genre to\n",
    "identify this country ex: replace missing rows by japan for Anime  \n",
    "convert the date_added column from object type to datetime  "
   ]
  },
  {
   "cell_type": "code",
   "execution_count": 4,
   "id": "bba7443e",
   "metadata": {
    "execution": {
     "iopub.execute_input": "2023-04-29T00:40:09.831302Z",
     "iopub.status.busy": "2023-04-29T00:40:09.830177Z",
     "iopub.status.idle": "2023-04-29T00:40:09.871253Z",
     "shell.execute_reply": "2023-04-29T00:40:09.870012Z"
    },
    "papermill": {
     "duration": 0.05487,
     "end_time": "2023-04-29T00:40:09.873730",
     "exception": false,
     "start_time": "2023-04-29T00:40:09.818860",
     "status": "completed"
    },
    "tags": []
   },
   "outputs": [
    {
     "data": {
      "text/html": [
       "<div>\n",
       "<style scoped>\n",
       "    .dataframe tbody tr th:only-of-type {\n",
       "        vertical-align: middle;\n",
       "    }\n",
       "\n",
       "    .dataframe tbody tr th {\n",
       "        vertical-align: top;\n",
       "    }\n",
       "\n",
       "    .dataframe thead th {\n",
       "        text-align: right;\n",
       "    }\n",
       "</style>\n",
       "<table border=\"1\" class=\"dataframe\">\n",
       "  <thead>\n",
       "    <tr style=\"text-align: right;\">\n",
       "      <th></th>\n",
       "      <th>show_id</th>\n",
       "      <th>type</th>\n",
       "      <th>title</th>\n",
       "      <th>director</th>\n",
       "      <th>cast</th>\n",
       "      <th>country</th>\n",
       "      <th>date_added</th>\n",
       "      <th>release_year</th>\n",
       "      <th>rating</th>\n",
       "      <th>duration</th>\n",
       "      <th>listed_in</th>\n",
       "      <th>description</th>\n",
       "    </tr>\n",
       "  </thead>\n",
       "  <tbody>\n",
       "  </tbody>\n",
       "</table>\n",
       "</div>"
      ],
      "text/plain": [
       "Empty DataFrame\n",
       "Columns: [show_id, type, title, director, cast, country, date_added, release_year, rating, duration, listed_in, description]\n",
       "Index: []"
      ]
     },
     "execution_count": 4,
     "metadata": {},
     "output_type": "execute_result"
    }
   ],
   "source": [
    "dups=df.duplicated(['title','country','type','release_year'])\n",
    "df[dups]"
   ]
  },
  {
   "cell_type": "code",
   "execution_count": 5,
   "id": "bd88eed3",
   "metadata": {
    "execution": {
     "iopub.execute_input": "2023-04-29T00:40:09.895163Z",
     "iopub.status.busy": "2023-04-29T00:40:09.894702Z",
     "iopub.status.idle": "2023-04-29T00:40:09.908162Z",
     "shell.execute_reply": "2023-04-29T00:40:09.906819Z"
    },
    "papermill": {
     "duration": 0.027214,
     "end_time": "2023-04-29T00:40:09.910802",
     "exception": false,
     "start_time": "2023-04-29T00:40:09.883588",
     "status": "completed"
    },
    "tags": []
   },
   "outputs": [],
   "source": [
    "df=df.drop_duplicates(['title','country','type','release_year'])\n"
   ]
  },
  {
   "cell_type": "code",
   "execution_count": 6,
   "id": "c0e288f0",
   "metadata": {
    "execution": {
     "iopub.execute_input": "2023-04-29T00:40:09.932401Z",
     "iopub.status.busy": "2023-04-29T00:40:09.931690Z",
     "iopub.status.idle": "2023-04-29T00:40:09.939783Z",
     "shell.execute_reply": "2023-04-29T00:40:09.938550Z"
    },
    "papermill": {
     "duration": 0.021442,
     "end_time": "2023-04-29T00:40:09.942009",
     "exception": false,
     "start_time": "2023-04-29T00:40:09.920567",
     "status": "completed"
    },
    "tags": []
   },
   "outputs": [],
   "source": [
    "df=df.drop('show_id',axis=1)\n"
   ]
  },
  {
   "cell_type": "code",
   "execution_count": 7,
   "id": "6d9e8212",
   "metadata": {
    "execution": {
     "iopub.execute_input": "2023-04-29T00:40:09.964682Z",
     "iopub.status.busy": "2023-04-29T00:40:09.964237Z",
     "iopub.status.idle": "2023-04-29T00:40:09.986914Z",
     "shell.execute_reply": "2023-04-29T00:40:09.985457Z"
    },
    "papermill": {
     "duration": 0.037713,
     "end_time": "2023-04-29T00:40:09.989367",
     "exception": false,
     "start_time": "2023-04-29T00:40:09.951654",
     "status": "completed"
    },
    "tags": []
   },
   "outputs": [],
   "source": [
    "df['cast']=df['cast'].replace(np.nan,'Unknown')\n",
    "def cast_counter(cast):\n",
    "    if cast=='Unknown':\n",
    "        return 0\n",
    "    else:\n",
    "        lst=cast.split(', ')\n",
    "        length=len(lst)\n",
    "        return length\n",
    "df['number_of_cast']=df['cast'].apply(cast_counter)\n",
    "df['cast']=df['cast'].replace('Unknown',np.nan)"
   ]
  },
  {
   "cell_type": "code",
   "execution_count": 8,
   "id": "a02a255e",
   "metadata": {
    "execution": {
     "iopub.execute_input": "2023-04-29T00:40:10.010586Z",
     "iopub.status.busy": "2023-04-29T00:40:10.010163Z",
     "iopub.status.idle": "2023-04-29T00:40:10.018301Z",
     "shell.execute_reply": "2023-04-29T00:40:10.017148Z"
    },
    "papermill": {
     "duration": 0.021795,
     "end_time": "2023-04-29T00:40:10.020822",
     "exception": false,
     "start_time": "2023-04-29T00:40:09.999027",
     "status": "completed"
    },
    "tags": []
   },
   "outputs": [],
   "source": [
    "df=df.reset_index()\n"
   ]
  },
  {
   "cell_type": "code",
   "execution_count": 9,
   "id": "8a3cd2da",
   "metadata": {
    "execution": {
     "iopub.execute_input": "2023-04-29T00:40:10.042526Z",
     "iopub.status.busy": "2023-04-29T00:40:10.041757Z",
     "iopub.status.idle": "2023-04-29T00:40:10.060805Z",
     "shell.execute_reply": "2023-04-29T00:40:10.059748Z"
    },
    "papermill": {
     "duration": 0.032483,
     "end_time": "2023-04-29T00:40:10.063023",
     "exception": false,
     "start_time": "2023-04-29T00:40:10.030540",
     "status": "completed"
    },
    "tags": []
   },
   "outputs": [
    {
     "data": {
      "text/html": [
       "<div>\n",
       "<style scoped>\n",
       "    .dataframe tbody tr th:only-of-type {\n",
       "        vertical-align: middle;\n",
       "    }\n",
       "\n",
       "    .dataframe tbody tr th {\n",
       "        vertical-align: top;\n",
       "    }\n",
       "\n",
       "    .dataframe thead th {\n",
       "        text-align: right;\n",
       "    }\n",
       "</style>\n",
       "<table border=\"1\" class=\"dataframe\">\n",
       "  <thead>\n",
       "    <tr style=\"text-align: right;\">\n",
       "      <th></th>\n",
       "      <th>index</th>\n",
       "      <th>type</th>\n",
       "      <th>title</th>\n",
       "      <th>director</th>\n",
       "      <th>cast</th>\n",
       "      <th>country</th>\n",
       "      <th>date_added</th>\n",
       "      <th>release_year</th>\n",
       "      <th>rating</th>\n",
       "      <th>duration</th>\n",
       "      <th>listed_in</th>\n",
       "      <th>description</th>\n",
       "      <th>number_of_cast</th>\n",
       "    </tr>\n",
       "  </thead>\n",
       "  <tbody>\n",
       "    <tr>\n",
       "      <th>0</th>\n",
       "      <td>0</td>\n",
       "      <td>Movie</td>\n",
       "      <td>Dick Johnson Is Dead</td>\n",
       "      <td>Kirsten Johnson</td>\n",
       "      <td>NaN</td>\n",
       "      <td>United States</td>\n",
       "      <td>September 25, 2021</td>\n",
       "      <td>2020</td>\n",
       "      <td>PG-13</td>\n",
       "      <td>90 min</td>\n",
       "      <td>Documentaries</td>\n",
       "      <td>As her father nears the end of his life, filmm...</td>\n",
       "      <td>0</td>\n",
       "    </tr>\n",
       "    <tr>\n",
       "      <th>1</th>\n",
       "      <td>1</td>\n",
       "      <td>TV Show</td>\n",
       "      <td>Blood &amp; Water</td>\n",
       "      <td>NaN</td>\n",
       "      <td>Ama Qamata, Khosi Ngema, Gail Mabalane, Thaban...</td>\n",
       "      <td>South Africa</td>\n",
       "      <td>September 24, 2021</td>\n",
       "      <td>2021</td>\n",
       "      <td>TV-MA</td>\n",
       "      <td>2 Seasons</td>\n",
       "      <td>International TV Shows, TV Dramas, TV Mysteries</td>\n",
       "      <td>After crossing paths at a party, a Cape Town t...</td>\n",
       "      <td>19</td>\n",
       "    </tr>\n",
       "    <tr>\n",
       "      <th>2</th>\n",
       "      <td>2</td>\n",
       "      <td>TV Show</td>\n",
       "      <td>Ganglands</td>\n",
       "      <td>Julien Leclercq</td>\n",
       "      <td>Sami Bouajila, Tracy Gotoas, Samuel Jouy, Nabi...</td>\n",
       "      <td>NaN</td>\n",
       "      <td>September 24, 2021</td>\n",
       "      <td>2021</td>\n",
       "      <td>TV-MA</td>\n",
       "      <td>1 Season</td>\n",
       "      <td>Crime TV Shows, International TV Shows, TV Act...</td>\n",
       "      <td>To protect his family from a powerful drug lor...</td>\n",
       "      <td>9</td>\n",
       "    </tr>\n",
       "    <tr>\n",
       "      <th>3</th>\n",
       "      <td>3</td>\n",
       "      <td>TV Show</td>\n",
       "      <td>Jailbirds New Orleans</td>\n",
       "      <td>NaN</td>\n",
       "      <td>NaN</td>\n",
       "      <td>NaN</td>\n",
       "      <td>September 24, 2021</td>\n",
       "      <td>2021</td>\n",
       "      <td>TV-MA</td>\n",
       "      <td>1 Season</td>\n",
       "      <td>Docuseries, Reality TV</td>\n",
       "      <td>Feuds, flirtations and toilet talk go down amo...</td>\n",
       "      <td>0</td>\n",
       "    </tr>\n",
       "    <tr>\n",
       "      <th>4</th>\n",
       "      <td>4</td>\n",
       "      <td>TV Show</td>\n",
       "      <td>Kota Factory</td>\n",
       "      <td>NaN</td>\n",
       "      <td>Mayur More, Jitendra Kumar, Ranjan Raj, Alam K...</td>\n",
       "      <td>India</td>\n",
       "      <td>September 24, 2021</td>\n",
       "      <td>2021</td>\n",
       "      <td>TV-MA</td>\n",
       "      <td>2 Seasons</td>\n",
       "      <td>International TV Shows, Romantic TV Shows, TV ...</td>\n",
       "      <td>In a city of coaching centers known to train I...</td>\n",
       "      <td>8</td>\n",
       "    </tr>\n",
       "  </tbody>\n",
       "</table>\n",
       "</div>"
      ],
      "text/plain": [
       "   index     type                  title         director  \\\n",
       "0      0    Movie   Dick Johnson Is Dead  Kirsten Johnson   \n",
       "1      1  TV Show          Blood & Water              NaN   \n",
       "2      2  TV Show              Ganglands  Julien Leclercq   \n",
       "3      3  TV Show  Jailbirds New Orleans              NaN   \n",
       "4      4  TV Show           Kota Factory              NaN   \n",
       "\n",
       "                                                cast        country  \\\n",
       "0                                                NaN  United States   \n",
       "1  Ama Qamata, Khosi Ngema, Gail Mabalane, Thaban...   South Africa   \n",
       "2  Sami Bouajila, Tracy Gotoas, Samuel Jouy, Nabi...            NaN   \n",
       "3                                                NaN            NaN   \n",
       "4  Mayur More, Jitendra Kumar, Ranjan Raj, Alam K...          India   \n",
       "\n",
       "           date_added  release_year rating   duration  \\\n",
       "0  September 25, 2021          2020  PG-13     90 min   \n",
       "1  September 24, 2021          2021  TV-MA  2 Seasons   \n",
       "2  September 24, 2021          2021  TV-MA   1 Season   \n",
       "3  September 24, 2021          2021  TV-MA   1 Season   \n",
       "4  September 24, 2021          2021  TV-MA  2 Seasons   \n",
       "\n",
       "                                           listed_in  \\\n",
       "0                                      Documentaries   \n",
       "1    International TV Shows, TV Dramas, TV Mysteries   \n",
       "2  Crime TV Shows, International TV Shows, TV Act...   \n",
       "3                             Docuseries, Reality TV   \n",
       "4  International TV Shows, Romantic TV Shows, TV ...   \n",
       "\n",
       "                                         description  number_of_cast  \n",
       "0  As her father nears the end of his life, filmm...               0  \n",
       "1  After crossing paths at a party, a Cape Town t...              19  \n",
       "2  To protect his family from a powerful drug lor...               9  \n",
       "3  Feuds, flirtations and toilet talk go down amo...               0  \n",
       "4  In a city of coaching centers known to train I...               8  "
      ]
     },
     "execution_count": 9,
     "metadata": {},
     "output_type": "execute_result"
    }
   ],
   "source": [
    "df.head()"
   ]
  },
  {
   "cell_type": "code",
   "execution_count": 10,
   "id": "c16cd928",
   "metadata": {
    "execution": {
     "iopub.execute_input": "2023-04-29T00:40:10.084860Z",
     "iopub.status.busy": "2023-04-29T00:40:10.084428Z",
     "iopub.status.idle": "2023-04-29T00:40:10.093987Z",
     "shell.execute_reply": "2023-04-29T00:40:10.093006Z"
    },
    "papermill": {
     "duration": 0.023276,
     "end_time": "2023-04-29T00:40:10.096299",
     "exception": false,
     "start_time": "2023-04-29T00:40:10.073023",
     "status": "completed"
    },
    "tags": []
   },
   "outputs": [],
   "source": [
    "df['rating']=df['rating'].fillna(df['rating'].mode()[0])\n"
   ]
  },
  {
   "cell_type": "code",
   "execution_count": 11,
   "id": "2d718397",
   "metadata": {
    "execution": {
     "iopub.execute_input": "2023-04-29T00:40:10.118487Z",
     "iopub.status.busy": "2023-04-29T00:40:10.118068Z",
     "iopub.status.idle": "2023-04-29T00:40:10.125195Z",
     "shell.execute_reply": "2023-04-29T00:40:10.123942Z"
    },
    "papermill": {
     "duration": 0.021167,
     "end_time": "2023-04-29T00:40:10.127624",
     "exception": false,
     "start_time": "2023-04-29T00:40:10.106457",
     "status": "completed"
    },
    "tags": []
   },
   "outputs": [],
   "source": [
    "df['date_added']=df['date_added'].fillna('January 1, {}'.format(str(df['release_year'].mode()[0])))\n"
   ]
  },
  {
   "cell_type": "code",
   "execution_count": 12,
   "id": "547b46b7",
   "metadata": {
    "execution": {
     "iopub.execute_input": "2023-04-29T00:40:10.150384Z",
     "iopub.status.busy": "2023-04-29T00:40:10.149612Z",
     "iopub.status.idle": "2023-04-29T00:40:10.158623Z",
     "shell.execute_reply": "2023-04-29T00:40:10.157483Z"
    },
    "papermill": {
     "duration": 0.02327,
     "end_time": "2023-04-29T00:40:10.161192",
     "exception": false,
     "start_time": "2023-04-29T00:40:10.137922",
     "status": "completed"
    },
    "tags": []
   },
   "outputs": [],
   "source": [
    "for i,j in zip(df['country'].values,df.index):\n",
    "    if i==np.nan:\n",
    "        if ('Anime' in df.loc[j,'listed_in']) or ('anime' in df.loc[j,'listed_in']):\n",
    "                df.loc[j,'country']='Japan'\n",
    "        else:\n",
    "            continue\n",
    "    else:\n",
    "        continue\n"
   ]
  },
  {
   "cell_type": "code",
   "execution_count": 13,
   "id": "9b14fa4f",
   "metadata": {
    "execution": {
     "iopub.execute_input": "2023-04-29T00:40:10.182941Z",
     "iopub.status.busy": "2023-04-29T00:40:10.182523Z",
     "iopub.status.idle": "2023-04-29T00:40:10.234907Z",
     "shell.execute_reply": "2023-04-29T00:40:10.233812Z"
    },
    "papermill": {
     "duration": 0.066306,
     "end_time": "2023-04-29T00:40:10.237470",
     "exception": false,
     "start_time": "2023-04-29T00:40:10.171164",
     "status": "completed"
    },
    "tags": []
   },
   "outputs": [],
   "source": [
    "import re\n",
    "months={\n",
    "    'January':1,\n",
    "    'February':2,\n",
    "    'March':3,\n",
    "    'April':4,\n",
    "    'May':5,\n",
    "    'June':6,\n",
    "    'July':7,\n",
    "    'August':8,\n",
    "    'September':9,\n",
    "    'October':10,\n",
    "    'November':11,\n",
    "    'December':12\n",
    "}\n",
    "date_lst=[]\n",
    "for i in df['date_added'].values:\n",
    "    str1=re.findall('([a-zA-Z]+)\\s[0-9]+\\,\\s[0-9]+',i)\n",
    "    str2=re.findall('[a-zA-Z]+\\s([0-9]+)\\,\\s[0-9]+',i)\n",
    "    str3=re.findall('[a-zA-Z]+\\s[0-9]+\\,\\s([0-9]+)',i)\n",
    "    date='{}-{}-{}'.format(str3[0],months[str1[0]],str2[0])\n",
    "    date_lst.append(date)\n"
   ]
  },
  {
   "cell_type": "code",
   "execution_count": 14,
   "id": "1e6ebf49",
   "metadata": {
    "execution": {
     "iopub.execute_input": "2023-04-29T00:40:10.259857Z",
     "iopub.status.busy": "2023-04-29T00:40:10.259195Z",
     "iopub.status.idle": "2023-04-29T00:40:10.276144Z",
     "shell.execute_reply": "2023-04-29T00:40:10.274922Z"
    },
    "papermill": {
     "duration": 0.031028,
     "end_time": "2023-04-29T00:40:10.278595",
     "exception": false,
     "start_time": "2023-04-29T00:40:10.247567",
     "status": "completed"
    },
    "tags": []
   },
   "outputs": [
    {
     "data": {
      "text/html": [
       "<div>\n",
       "<style scoped>\n",
       "    .dataframe tbody tr th:only-of-type {\n",
       "        vertical-align: middle;\n",
       "    }\n",
       "\n",
       "    .dataframe tbody tr th {\n",
       "        vertical-align: top;\n",
       "    }\n",
       "\n",
       "    .dataframe thead th {\n",
       "        text-align: right;\n",
       "    }\n",
       "</style>\n",
       "<table border=\"1\" class=\"dataframe\">\n",
       "  <thead>\n",
       "    <tr style=\"text-align: right;\">\n",
       "      <th></th>\n",
       "      <th>index</th>\n",
       "      <th>type</th>\n",
       "      <th>title</th>\n",
       "      <th>director</th>\n",
       "      <th>cast</th>\n",
       "      <th>country</th>\n",
       "      <th>date_added</th>\n",
       "      <th>release_year</th>\n",
       "      <th>rating</th>\n",
       "      <th>duration</th>\n",
       "      <th>listed_in</th>\n",
       "      <th>description</th>\n",
       "      <th>number_of_cast</th>\n",
       "    </tr>\n",
       "  </thead>\n",
       "  <tbody>\n",
       "    <tr>\n",
       "      <th>0</th>\n",
       "      <td>0</td>\n",
       "      <td>Movie</td>\n",
       "      <td>Dick Johnson Is Dead</td>\n",
       "      <td>Kirsten Johnson</td>\n",
       "      <td>NaN</td>\n",
       "      <td>United States</td>\n",
       "      <td>September 25, 2021</td>\n",
       "      <td>2020</td>\n",
       "      <td>PG-13</td>\n",
       "      <td>90 min</td>\n",
       "      <td>Documentaries</td>\n",
       "      <td>As her father nears the end of his life, filmm...</td>\n",
       "      <td>0</td>\n",
       "    </tr>\n",
       "    <tr>\n",
       "      <th>1</th>\n",
       "      <td>1</td>\n",
       "      <td>TV Show</td>\n",
       "      <td>Blood &amp; Water</td>\n",
       "      <td>NaN</td>\n",
       "      <td>Ama Qamata, Khosi Ngema, Gail Mabalane, Thaban...</td>\n",
       "      <td>South Africa</td>\n",
       "      <td>September 24, 2021</td>\n",
       "      <td>2021</td>\n",
       "      <td>TV-MA</td>\n",
       "      <td>2 Seasons</td>\n",
       "      <td>International TV Shows, TV Dramas, TV Mysteries</td>\n",
       "      <td>After crossing paths at a party, a Cape Town t...</td>\n",
       "      <td>19</td>\n",
       "    </tr>\n",
       "    <tr>\n",
       "      <th>2</th>\n",
       "      <td>2</td>\n",
       "      <td>TV Show</td>\n",
       "      <td>Ganglands</td>\n",
       "      <td>Julien Leclercq</td>\n",
       "      <td>Sami Bouajila, Tracy Gotoas, Samuel Jouy, Nabi...</td>\n",
       "      <td>NaN</td>\n",
       "      <td>September 24, 2021</td>\n",
       "      <td>2021</td>\n",
       "      <td>TV-MA</td>\n",
       "      <td>1 Season</td>\n",
       "      <td>Crime TV Shows, International TV Shows, TV Act...</td>\n",
       "      <td>To protect his family from a powerful drug lor...</td>\n",
       "      <td>9</td>\n",
       "    </tr>\n",
       "    <tr>\n",
       "      <th>3</th>\n",
       "      <td>3</td>\n",
       "      <td>TV Show</td>\n",
       "      <td>Jailbirds New Orleans</td>\n",
       "      <td>NaN</td>\n",
       "      <td>NaN</td>\n",
       "      <td>NaN</td>\n",
       "      <td>September 24, 2021</td>\n",
       "      <td>2021</td>\n",
       "      <td>TV-MA</td>\n",
       "      <td>1 Season</td>\n",
       "      <td>Docuseries, Reality TV</td>\n",
       "      <td>Feuds, flirtations and toilet talk go down amo...</td>\n",
       "      <td>0</td>\n",
       "    </tr>\n",
       "    <tr>\n",
       "      <th>4</th>\n",
       "      <td>4</td>\n",
       "      <td>TV Show</td>\n",
       "      <td>Kota Factory</td>\n",
       "      <td>NaN</td>\n",
       "      <td>Mayur More, Jitendra Kumar, Ranjan Raj, Alam K...</td>\n",
       "      <td>India</td>\n",
       "      <td>September 24, 2021</td>\n",
       "      <td>2021</td>\n",
       "      <td>TV-MA</td>\n",
       "      <td>2 Seasons</td>\n",
       "      <td>International TV Shows, Romantic TV Shows, TV ...</td>\n",
       "      <td>In a city of coaching centers known to train I...</td>\n",
       "      <td>8</td>\n",
       "    </tr>\n",
       "  </tbody>\n",
       "</table>\n",
       "</div>"
      ],
      "text/plain": [
       "   index     type                  title         director  \\\n",
       "0      0    Movie   Dick Johnson Is Dead  Kirsten Johnson   \n",
       "1      1  TV Show          Blood & Water              NaN   \n",
       "2      2  TV Show              Ganglands  Julien Leclercq   \n",
       "3      3  TV Show  Jailbirds New Orleans              NaN   \n",
       "4      4  TV Show           Kota Factory              NaN   \n",
       "\n",
       "                                                cast        country  \\\n",
       "0                                                NaN  United States   \n",
       "1  Ama Qamata, Khosi Ngema, Gail Mabalane, Thaban...   South Africa   \n",
       "2  Sami Bouajila, Tracy Gotoas, Samuel Jouy, Nabi...            NaN   \n",
       "3                                                NaN            NaN   \n",
       "4  Mayur More, Jitendra Kumar, Ranjan Raj, Alam K...          India   \n",
       "\n",
       "           date_added  release_year rating   duration  \\\n",
       "0  September 25, 2021          2020  PG-13     90 min   \n",
       "1  September 24, 2021          2021  TV-MA  2 Seasons   \n",
       "2  September 24, 2021          2021  TV-MA   1 Season   \n",
       "3  September 24, 2021          2021  TV-MA   1 Season   \n",
       "4  September 24, 2021          2021  TV-MA  2 Seasons   \n",
       "\n",
       "                                           listed_in  \\\n",
       "0                                      Documentaries   \n",
       "1    International TV Shows, TV Dramas, TV Mysteries   \n",
       "2  Crime TV Shows, International TV Shows, TV Act...   \n",
       "3                             Docuseries, Reality TV   \n",
       "4  International TV Shows, Romantic TV Shows, TV ...   \n",
       "\n",
       "                                         description  number_of_cast  \n",
       "0  As her father nears the end of his life, filmm...               0  \n",
       "1  After crossing paths at a party, a Cape Town t...              19  \n",
       "2  To protect his family from a powerful drug lor...               9  \n",
       "3  Feuds, flirtations and toilet talk go down amo...               0  \n",
       "4  In a city of coaching centers known to train I...               8  "
      ]
     },
     "execution_count": 14,
     "metadata": {},
     "output_type": "execute_result"
    }
   ],
   "source": [
    "df.head()"
   ]
  },
  {
   "cell_type": "code",
   "execution_count": 15,
   "id": "09e2d9dd",
   "metadata": {
    "execution": {
     "iopub.execute_input": "2023-04-29T00:40:10.301252Z",
     "iopub.status.busy": "2023-04-29T00:40:10.300798Z",
     "iopub.status.idle": "2023-04-29T00:40:10.307262Z",
     "shell.execute_reply": "2023-04-29T00:40:10.306057Z"
    },
    "papermill": {
     "duration": 0.020777,
     "end_time": "2023-04-29T00:40:10.309610",
     "exception": false,
     "start_time": "2023-04-29T00:40:10.288833",
     "status": "completed"
    },
    "tags": []
   },
   "outputs": [],
   "source": [
    "df['date_added_cleaned']=date_lst\n"
   ]
  },
  {
   "cell_type": "code",
   "execution_count": 16,
   "id": "0d9ff7fb",
   "metadata": {
    "execution": {
     "iopub.execute_input": "2023-04-29T00:40:10.331931Z",
     "iopub.status.busy": "2023-04-29T00:40:10.331510Z",
     "iopub.status.idle": "2023-04-29T00:40:10.341668Z",
     "shell.execute_reply": "2023-04-29T00:40:10.340276Z"
    },
    "papermill": {
     "duration": 0.024389,
     "end_time": "2023-04-29T00:40:10.344164",
     "exception": false,
     "start_time": "2023-04-29T00:40:10.319775",
     "status": "completed"
    },
    "tags": []
   },
   "outputs": [],
   "source": [
    "df=df.drop('date_added',axis=1)\n"
   ]
  },
  {
   "cell_type": "code",
   "execution_count": 17,
   "id": "8efebb18",
   "metadata": {
    "execution": {
     "iopub.execute_input": "2023-04-29T00:40:10.367335Z",
     "iopub.status.busy": "2023-04-29T00:40:10.366488Z",
     "iopub.status.idle": "2023-04-29T00:40:10.384601Z",
     "shell.execute_reply": "2023-04-29T00:40:10.383306Z"
    },
    "papermill": {
     "duration": 0.032421,
     "end_time": "2023-04-29T00:40:10.386929",
     "exception": false,
     "start_time": "2023-04-29T00:40:10.354508",
     "status": "completed"
    },
    "tags": []
   },
   "outputs": [
    {
     "data": {
      "text/html": [
       "<div>\n",
       "<style scoped>\n",
       "    .dataframe tbody tr th:only-of-type {\n",
       "        vertical-align: middle;\n",
       "    }\n",
       "\n",
       "    .dataframe tbody tr th {\n",
       "        vertical-align: top;\n",
       "    }\n",
       "\n",
       "    .dataframe thead th {\n",
       "        text-align: right;\n",
       "    }\n",
       "</style>\n",
       "<table border=\"1\" class=\"dataframe\">\n",
       "  <thead>\n",
       "    <tr style=\"text-align: right;\">\n",
       "      <th></th>\n",
       "      <th>index</th>\n",
       "      <th>type</th>\n",
       "      <th>title</th>\n",
       "      <th>director</th>\n",
       "      <th>cast</th>\n",
       "      <th>country</th>\n",
       "      <th>release_year</th>\n",
       "      <th>rating</th>\n",
       "      <th>duration</th>\n",
       "      <th>listed_in</th>\n",
       "      <th>description</th>\n",
       "      <th>number_of_cast</th>\n",
       "      <th>date_added_cleaned</th>\n",
       "    </tr>\n",
       "  </thead>\n",
       "  <tbody>\n",
       "    <tr>\n",
       "      <th>0</th>\n",
       "      <td>0</td>\n",
       "      <td>Movie</td>\n",
       "      <td>Dick Johnson Is Dead</td>\n",
       "      <td>Kirsten Johnson</td>\n",
       "      <td>NaN</td>\n",
       "      <td>United States</td>\n",
       "      <td>2020</td>\n",
       "      <td>PG-13</td>\n",
       "      <td>90 min</td>\n",
       "      <td>Documentaries</td>\n",
       "      <td>As her father nears the end of his life, filmm...</td>\n",
       "      <td>0</td>\n",
       "      <td>2021-9-25</td>\n",
       "    </tr>\n",
       "    <tr>\n",
       "      <th>1</th>\n",
       "      <td>1</td>\n",
       "      <td>TV Show</td>\n",
       "      <td>Blood &amp; Water</td>\n",
       "      <td>NaN</td>\n",
       "      <td>Ama Qamata, Khosi Ngema, Gail Mabalane, Thaban...</td>\n",
       "      <td>South Africa</td>\n",
       "      <td>2021</td>\n",
       "      <td>TV-MA</td>\n",
       "      <td>2 Seasons</td>\n",
       "      <td>International TV Shows, TV Dramas, TV Mysteries</td>\n",
       "      <td>After crossing paths at a party, a Cape Town t...</td>\n",
       "      <td>19</td>\n",
       "      <td>2021-9-24</td>\n",
       "    </tr>\n",
       "    <tr>\n",
       "      <th>2</th>\n",
       "      <td>2</td>\n",
       "      <td>TV Show</td>\n",
       "      <td>Ganglands</td>\n",
       "      <td>Julien Leclercq</td>\n",
       "      <td>Sami Bouajila, Tracy Gotoas, Samuel Jouy, Nabi...</td>\n",
       "      <td>NaN</td>\n",
       "      <td>2021</td>\n",
       "      <td>TV-MA</td>\n",
       "      <td>1 Season</td>\n",
       "      <td>Crime TV Shows, International TV Shows, TV Act...</td>\n",
       "      <td>To protect his family from a powerful drug lor...</td>\n",
       "      <td>9</td>\n",
       "      <td>2021-9-24</td>\n",
       "    </tr>\n",
       "    <tr>\n",
       "      <th>3</th>\n",
       "      <td>3</td>\n",
       "      <td>TV Show</td>\n",
       "      <td>Jailbirds New Orleans</td>\n",
       "      <td>NaN</td>\n",
       "      <td>NaN</td>\n",
       "      <td>NaN</td>\n",
       "      <td>2021</td>\n",
       "      <td>TV-MA</td>\n",
       "      <td>1 Season</td>\n",
       "      <td>Docuseries, Reality TV</td>\n",
       "      <td>Feuds, flirtations and toilet talk go down amo...</td>\n",
       "      <td>0</td>\n",
       "      <td>2021-9-24</td>\n",
       "    </tr>\n",
       "    <tr>\n",
       "      <th>4</th>\n",
       "      <td>4</td>\n",
       "      <td>TV Show</td>\n",
       "      <td>Kota Factory</td>\n",
       "      <td>NaN</td>\n",
       "      <td>Mayur More, Jitendra Kumar, Ranjan Raj, Alam K...</td>\n",
       "      <td>India</td>\n",
       "      <td>2021</td>\n",
       "      <td>TV-MA</td>\n",
       "      <td>2 Seasons</td>\n",
       "      <td>International TV Shows, Romantic TV Shows, TV ...</td>\n",
       "      <td>In a city of coaching centers known to train I...</td>\n",
       "      <td>8</td>\n",
       "      <td>2021-9-24</td>\n",
       "    </tr>\n",
       "  </tbody>\n",
       "</table>\n",
       "</div>"
      ],
      "text/plain": [
       "   index     type                  title         director  \\\n",
       "0      0    Movie   Dick Johnson Is Dead  Kirsten Johnson   \n",
       "1      1  TV Show          Blood & Water              NaN   \n",
       "2      2  TV Show              Ganglands  Julien Leclercq   \n",
       "3      3  TV Show  Jailbirds New Orleans              NaN   \n",
       "4      4  TV Show           Kota Factory              NaN   \n",
       "\n",
       "                                                cast        country  \\\n",
       "0                                                NaN  United States   \n",
       "1  Ama Qamata, Khosi Ngema, Gail Mabalane, Thaban...   South Africa   \n",
       "2  Sami Bouajila, Tracy Gotoas, Samuel Jouy, Nabi...            NaN   \n",
       "3                                                NaN            NaN   \n",
       "4  Mayur More, Jitendra Kumar, Ranjan Raj, Alam K...          India   \n",
       "\n",
       "   release_year rating   duration  \\\n",
       "0          2020  PG-13     90 min   \n",
       "1          2021  TV-MA  2 Seasons   \n",
       "2          2021  TV-MA   1 Season   \n",
       "3          2021  TV-MA   1 Season   \n",
       "4          2021  TV-MA  2 Seasons   \n",
       "\n",
       "                                           listed_in  \\\n",
       "0                                      Documentaries   \n",
       "1    International TV Shows, TV Dramas, TV Mysteries   \n",
       "2  Crime TV Shows, International TV Shows, TV Act...   \n",
       "3                             Docuseries, Reality TV   \n",
       "4  International TV Shows, Romantic TV Shows, TV ...   \n",
       "\n",
       "                                         description  number_of_cast  \\\n",
       "0  As her father nears the end of his life, filmm...               0   \n",
       "1  After crossing paths at a party, a Cape Town t...              19   \n",
       "2  To protect his family from a powerful drug lor...               9   \n",
       "3  Feuds, flirtations and toilet talk go down amo...               0   \n",
       "4  In a city of coaching centers known to train I...               8   \n",
       "\n",
       "  date_added_cleaned  \n",
       "0          2021-9-25  \n",
       "1          2021-9-24  \n",
       "2          2021-9-24  \n",
       "3          2021-9-24  \n",
       "4          2021-9-24  "
      ]
     },
     "execution_count": 17,
     "metadata": {},
     "output_type": "execute_result"
    }
   ],
   "source": [
    "df.head()"
   ]
  },
  {
   "cell_type": "code",
   "execution_count": 18,
   "id": "b452878a",
   "metadata": {
    "execution": {
     "iopub.execute_input": "2023-04-29T00:40:10.410002Z",
     "iopub.status.busy": "2023-04-29T00:40:10.409609Z",
     "iopub.status.idle": "2023-04-29T00:40:10.423001Z",
     "shell.execute_reply": "2023-04-29T00:40:10.421654Z"
    },
    "papermill": {
     "duration": 0.0279,
     "end_time": "2023-04-29T00:40:10.425532",
     "exception": false,
     "start_time": "2023-04-29T00:40:10.397632",
     "status": "completed"
    },
    "tags": []
   },
   "outputs": [],
   "source": [
    "df['date_added_cleaned']=df['date_added_cleaned'].astype('datetime64[ns]')\n"
   ]
  },
  {
   "cell_type": "markdown",
   "id": "535805d3",
   "metadata": {
    "papermill": {
     "duration": 0.010504,
     "end_time": "2023-04-29T00:40:10.446766",
     "exception": false,
     "start_time": "2023-04-29T00:40:10.436262",
     "status": "completed"
    },
    "tags": []
   },
   "source": [
    "## Exploratory Data Analysis\n",
    "now, it is time to answer some questions.\n",
    "\n",
    "Understand every category in rating column(Google it)  \n",
    "Understanding what content is available in different countries.  \n",
    "Is Netflix has increasingly focusing on TV rather than movies in recent years.  \n",
    "The most observed rating categories in TV-shows and Movies  \n",
    "Identifying similar content by matching text-based features  \n",
    "How many content its release year differ from its year added  "
   ]
  },
  {
   "cell_type": "markdown",
   "id": "1b31f285",
   "metadata": {
    "papermill": {
     "duration": 0.010376,
     "end_time": "2023-04-29T00:40:10.468124",
     "exception": false,
     "start_time": "2023-04-29T00:40:10.457748",
     "status": "completed"
    },
    "tags": []
   },
   "source": [
    "let's now google the categories and explore them\n",
    "\n",
    "TV-MA:This program is specifically designed to be viewed by adults and therefore may be unsuitable for children under 17.  \n",
    "TV-14:This program contains some material that many parents would find unsuitable for children under 14 years of age.  \n",
    "TV-PG:This program contains material that parents may find unsuitable for younger children.  \n",
    "R:Under 17 requires accompanying parent or adult guardian,Parents are urged to learn more about the film before taking their young children with them.  \n",
    "PG-13:Some material may be inappropriate for children under 13. Parents are urged to be cautious. Some material may be inappropriate for pre-teenagers.  \n",
    "NR or UR:If a film has not been submitted for a rating or is an uncut version of a film that was submitted  \n",
    "PG:Some material may not be suitable for children,May contain some material parents might not like for their young children.  \n",
    "TV-Y7:This program is designed for children age 7 and above.  \n",
    "TV-G:This program is suitable for all ages.  \n",
    "TV-Y:Programs rated TV-Y are designed to be appropriate for children of all ages. The thematic elements portrayed in programs with this rating are specifically designed for a very young audience, including children ages 2-6.  \n",
    "TV-Y7-FV:is recommended for ages 7 and older, with the unique advisory that the program contains fantasy violence.  \n",
    "G:All ages admitted. Nothing that would offend parents for viewing by children.  \n",
    "NC-17:No One 17 and Under Admitted. Clearly adult. Children are not admitted.  \n",
    "\n",
    "\n",
    "here we discover that UR and NR is the same rating(unrated,Not rated)\n",
    "Uncut/extended versions of films that are labeled \"Unrated\" also contain warnings saying that the uncut version of the film contains content that differs from the theatrical release and might not be suitable for minors.\n",
    "so we have the fix this."
   ]
  },
  {
   "cell_type": "code",
   "execution_count": 19,
   "id": "6e876821",
   "metadata": {
    "execution": {
     "iopub.execute_input": "2023-04-29T00:40:10.491394Z",
     "iopub.status.busy": "2023-04-29T00:40:10.490944Z",
     "iopub.status.idle": "2023-04-29T00:40:10.593792Z",
     "shell.execute_reply": "2023-04-29T00:40:10.592599Z"
    },
    "papermill": {
     "duration": 0.117965,
     "end_time": "2023-04-29T00:40:10.596627",
     "exception": false,
     "start_time": "2023-04-29T00:40:10.478662",
     "status": "completed"
    },
    "tags": []
   },
   "outputs": [],
   "source": [
    "for i in df.index:\n",
    "    if df.loc[i,'rating']=='UR':\n",
    "        df.loc[i,'rating']='NR'\n"
   ]
  },
  {
   "cell_type": "code",
   "execution_count": 20,
   "id": "596b60a2",
   "metadata": {
    "execution": {
     "iopub.execute_input": "2023-04-29T00:40:10.621577Z",
     "iopub.status.busy": "2023-04-29T00:40:10.620596Z",
     "iopub.status.idle": "2023-04-29T00:40:11.019450Z",
     "shell.execute_reply": "2023-04-29T00:40:11.018193Z"
    },
    "papermill": {
     "duration": 0.414557,
     "end_time": "2023-04-29T00:40:11.022280",
     "exception": false,
     "start_time": "2023-04-29T00:40:10.607723",
     "status": "completed"
    },
    "tags": []
   },
   "outputs": [
    {
     "data": {
      "image/png": "[encoded data removed]",
      "text/plain": [
       "<Figure size 800x600 with 1 Axes>"
      ]
     },
     "metadata": {},
     "output_type": "display_data"
    }
   ],
   "source": [
    "plt.figure(figsize=(8,6))\n",
    "df['rating'].value_counts(normalize=True).plot.bar()\n",
    "plt.title('Distribution of rating categories')\n",
    "plt.xlabel('rating')\n",
    "plt.ylabel('relative frequency')\n",
    "plt.show()"
   ]
  },
  {
   "cell_type": "code",
   "execution_count": 21,
   "id": "bbc5ca14",
   "metadata": {
    "execution": {
     "iopub.execute_input": "2023-04-29T00:40:11.047180Z",
     "iopub.status.busy": "2023-04-29T00:40:11.046229Z",
     "iopub.status.idle": "2023-04-29T00:40:11.478919Z",
     "shell.execute_reply": "2023-04-29T00:40:11.477728Z"
    },
    "papermill": {
     "duration": 0.447934,
     "end_time": "2023-04-29T00:40:11.481561",
     "exception": false,
     "start_time": "2023-04-29T00:40:11.033627",
     "status": "completed"
    },
    "tags": []
   },
   "outputs": [
    {
     "data": {
      "image/png": "[encoded data removed]",
      "text/plain": [
       "<Figure size 1000x800 with 1 Axes>"
      ]
     },
     "metadata": {},
     "output_type": "display_data"
    }
   ],
   "source": [
    "plt.figure(figsize=(10,8))\n",
    "# countplot can only take in parameter x or y, either one, cannot be x and also y\n",
    "sns.countplot(data=df, x='rating', hue='type')\n",
    "plt.title('comparing frequency between type and rating')\n",
    "plt.show()"
   ]
  },
  {
   "cell_type": "markdown",
   "id": "923d3a96",
   "metadata": {
    "papermill": {
     "duration": 0.011559,
     "end_time": "2023-04-29T00:40:11.505177",
     "exception": false,
     "start_time": "2023-04-29T00:40:11.493618",
     "status": "completed"
    },
    "tags": []
   },
   "source": [
    "We can say that Movies is the majority category in every rating category on Netflix, except(TV-Y,TV-Y7,TV-Y7-FV).\n",
    "\n"
   ]
  },
  {
   "cell_type": "code",
   "execution_count": 22,
   "id": "581b0462",
   "metadata": {
    "execution": {
     "iopub.execute_input": "2023-04-29T00:40:11.530597Z",
     "iopub.status.busy": "2023-04-29T00:40:11.530178Z",
     "iopub.status.idle": "2023-04-29T00:40:11.541359Z",
     "shell.execute_reply": "2023-04-29T00:40:11.540109Z"
    },
    "papermill": {
     "duration": 0.026927,
     "end_time": "2023-04-29T00:40:11.543770",
     "exception": false,
     "start_time": "2023-04-29T00:40:11.516843",
     "status": "completed"
    },
    "tags": []
   },
   "outputs": [
    {
     "data": {
      "text/plain": [
       "United States                                           2818\n",
       "India                                                    972\n",
       "United Kingdom                                           419\n",
       "Japan                                                    245\n",
       "South Korea                                              199\n",
       "                                                        ... \n",
       "Ireland, United Kingdom, Greece, France, Netherlands       1\n",
       "France, Canada, Italy, United States, China                1\n",
       "United States, Venezuela                                   1\n",
       "United Kingdom, Canada, Japan                              1\n",
       "United Arab Emirates, Jordan                               1\n",
       "Name: country, Length: 748, dtype: int64"
      ]
     },
     "execution_count": 22,
     "metadata": {},
     "output_type": "execute_result"
    }
   ],
   "source": [
    "df['country'].value_counts().sort_values(ascending=False)\n"
   ]
  },
  {
   "cell_type": "markdown",
   "id": "06c8dc53",
   "metadata": {
    "papermill": {
     "duration": 0.011649,
     "end_time": "2023-04-29T00:40:11.567438",
     "exception": false,
     "start_time": "2023-04-29T00:40:11.555789",
     "status": "completed"
    },
    "tags": []
   },
   "source": [
    "we have huge number of countries in country column so we will focus on (United States,India,United Kingdom,Japan,Canada,Spain)"
   ]
  },
  {
   "cell_type": "code",
   "execution_count": 23,
   "id": "85f35043",
   "metadata": {
    "execution": {
     "iopub.execute_input": "2023-04-29T00:40:11.594147Z",
     "iopub.status.busy": "2023-04-29T00:40:11.593690Z",
     "iopub.status.idle": "2023-04-29T00:40:11.906071Z",
     "shell.execute_reply": "2023-04-29T00:40:11.904858Z"
    },
    "papermill": {
     "duration": 0.328711,
     "end_time": "2023-04-29T00:40:11.908586",
     "exception": false,
     "start_time": "2023-04-29T00:40:11.579875",
     "status": "completed"
    },
    "tags": []
   },
   "outputs": [
    {
     "data": {
      "image/png": "[encoded data removed]",
      "text/plain": [
       "<Figure size 1000x800 with 1 Axes>"
      ]
     },
     "metadata": {},
     "output_type": "display_data"
    }
   ],
   "source": [
    "top_productive_countries=df[(df['country']=='United States')|(df['country']=='India')|(df['country']=='United Kingdom')|(df['country']=='Japan')|\n",
    "                             (df['country']=='Canada')|(df['country']=='Spain')]\n",
    "\n",
    "plt.figure(figsize=[10,8])\n",
    "sns.countplot(data=top_productive_countries, x='country', hue='type')\n",
    "plt.title(\"Top Productive Countries\")\n",
    "plt.show()"
   ]
  },
  {
   "cell_type": "markdown",
   "id": "996362fe",
   "metadata": {
    "papermill": {
     "duration": 0.012269,
     "end_time": "2023-04-29T00:40:11.933455",
     "exception": false,
     "start_time": "2023-04-29T00:40:11.921186",
     "status": "completed"
    },
    "tags": []
   },
   "source": [
    "UK and Japan produces TV-Shows more than Movies\n",
    "\n"
   ]
  },
  {
   "cell_type": "code",
   "execution_count": 24,
   "id": "2b44c3f8",
   "metadata": {
    "execution": {
     "iopub.execute_input": "2023-04-29T00:40:11.960796Z",
     "iopub.status.busy": "2023-04-29T00:40:11.959776Z",
     "iopub.status.idle": "2023-04-29T00:40:11.983776Z",
     "shell.execute_reply": "2023-04-29T00:40:11.982233Z"
    },
    "papermill": {
     "duration": 0.04047,
     "end_time": "2023-04-29T00:40:11.986295",
     "exception": false,
     "start_time": "2023-04-29T00:40:11.945825",
     "status": "completed"
    },
    "tags": []
   },
   "outputs": [
    {
     "name": "stdout",
     "output_type": "stream",
     "text": [
      "United States\n",
      "TV-MA       32.931157\n",
      "R           15.613911\n",
      "TV-14       14.407381\n",
      "PG-13       10.255500\n",
      "TV-PG        8.907026\n",
      "PG           5.819730\n",
      "TV-Y7        3.584102\n",
      "TV-Y         3.087296\n",
      "TV-G         2.909865\n",
      "NR           1.277502\n",
      "G            1.029099\n",
      "74 min       0.035486\n",
      "84 min       0.035486\n",
      "66 min       0.035486\n",
      "TV-Y7-FV     0.035486\n",
      "NC-17        0.035486\n",
      "Name: rating, dtype: float64\n",
      "----------\n",
      "India\n",
      "TV-14       56.584362\n",
      "TV-MA       25.514403\n",
      "TV-PG       13.786008\n",
      "TV-Y7        1.440329\n",
      "TV-G         0.925926\n",
      "TV-Y         0.514403\n",
      "PG-13        0.411523\n",
      "NR           0.411523\n",
      "PG           0.205761\n",
      "R            0.102881\n",
      "TV-Y7-FV     0.102881\n",
      "Name: rating, dtype: float64\n",
      "----------\n",
      "United Kingdom\n",
      "TV-MA    42.243437\n",
      "TV-PG    17.899761\n",
      "TV-14    17.183771\n",
      "R         7.875895\n",
      "TV-G      5.489260\n",
      "TV-Y      4.534606\n",
      "PG-13     1.909308\n",
      "TV-Y7     1.193317\n",
      "NR        1.193317\n",
      "PG        0.477327\n",
      "Name: rating, dtype: float64\n",
      "----------\n",
      "Japan\n",
      "TV-14    37.142857\n",
      "TV-MA    35.918367\n",
      "TV-PG    15.918367\n",
      "TV-Y7     6.938776\n",
      "PG        1.632653\n",
      "PG-13     1.224490\n",
      "TV-Y      0.816327\n",
      "TV-G      0.408163\n",
      "Name: rating, dtype: float64\n",
      "----------\n",
      "Spain\n",
      "TV-MA    82.068966\n",
      "TV-14     8.965517\n",
      "TV-PG     3.448276\n",
      "TV-Y      1.379310\n",
      "R         1.379310\n",
      "TV-G      0.689655\n",
      "PG-13     0.689655\n",
      "NR        0.689655\n",
      "PG        0.689655\n",
      "Name: rating, dtype: float64\n",
      "----------\n",
      "Canada\n",
      "TV-MA       33.701657\n",
      "TV-14       14.364641\n",
      "TV-PG       12.154696\n",
      "TV-Y         9.392265\n",
      "R            8.839779\n",
      "TV-G         7.734807\n",
      "TV-Y7        4.972376\n",
      "PG           4.419890\n",
      "PG-13        1.657459\n",
      "NR           1.104972\n",
      "NC-17        0.552486\n",
      "G            0.552486\n",
      "TV-Y7-FV     0.552486\n",
      "Name: rating, dtype: float64\n",
      "----------\n"
     ]
    }
   ],
   "source": [
    "for i in top_productive_countries['country'].unique():\n",
    "    print(i)\n",
    "    print(top_productive_countries[top_productive_countries['country']==i]['rating'].value_counts(normalize=True)*100)\n",
    "    print('-'*10)"
   ]
  },
  {
   "cell_type": "markdown",
   "id": "1a0e3a67",
   "metadata": {
    "papermill": {
     "duration": 0.012434,
     "end_time": "2023-04-29T00:40:12.011393",
     "exception": false,
     "start_time": "2023-04-29T00:40:11.998959",
     "status": "completed"
    },
    "tags": []
   },
   "source": [
    "now let's see if Netflix focuse on TV rather than movies in recent years(2017-2018-2019)\n",
    "\n"
   ]
  },
  {
   "cell_type": "code",
   "execution_count": 25,
   "id": "f4340777",
   "metadata": {
    "execution": {
     "iopub.execute_input": "2023-04-29T00:40:12.038619Z",
     "iopub.status.busy": "2023-04-29T00:40:12.038182Z",
     "iopub.status.idle": "2023-04-29T00:40:12.044950Z",
     "shell.execute_reply": "2023-04-29T00:40:12.044013Z"
    },
    "papermill": {
     "duration": 0.023417,
     "end_time": "2023-04-29T00:40:12.047358",
     "exception": false,
     "start_time": "2023-04-29T00:40:12.023941",
     "status": "completed"
    },
    "tags": []
   },
   "outputs": [],
   "source": [
    "df['year_added']=df['date_added_cleaned'].dt.year\n"
   ]
  },
  {
   "cell_type": "code",
   "execution_count": 26,
   "id": "a75c6779",
   "metadata": {
    "execution": {
     "iopub.execute_input": "2023-04-29T00:40:12.075286Z",
     "iopub.status.busy": "2023-04-29T00:40:12.074064Z",
     "iopub.status.idle": "2023-04-29T00:40:12.093235Z",
     "shell.execute_reply": "2023-04-29T00:40:12.091946Z"
    },
    "papermill": {
     "duration": 0.035467,
     "end_time": "2023-04-29T00:40:12.095557",
     "exception": false,
     "start_time": "2023-04-29T00:40:12.060090",
     "status": "completed"
    },
    "tags": []
   },
   "outputs": [
    {
     "data": {
      "text/html": [
       "<div>\n",
       "<style scoped>\n",
       "    .dataframe tbody tr th:only-of-type {\n",
       "        vertical-align: middle;\n",
       "    }\n",
       "\n",
       "    .dataframe tbody tr th {\n",
       "        vertical-align: top;\n",
       "    }\n",
       "\n",
       "    .dataframe thead th {\n",
       "        text-align: right;\n",
       "    }\n",
       "</style>\n",
       "<table border=\"1\" class=\"dataframe\">\n",
       "  <thead>\n",
       "    <tr style=\"text-align: right;\">\n",
       "      <th></th>\n",
       "      <th>index</th>\n",
       "      <th>type</th>\n",
       "      <th>title</th>\n",
       "      <th>director</th>\n",
       "      <th>cast</th>\n",
       "      <th>country</th>\n",
       "      <th>release_year</th>\n",
       "      <th>rating</th>\n",
       "      <th>duration</th>\n",
       "      <th>listed_in</th>\n",
       "      <th>description</th>\n",
       "      <th>number_of_cast</th>\n",
       "      <th>date_added_cleaned</th>\n",
       "      <th>year_added</th>\n",
       "    </tr>\n",
       "  </thead>\n",
       "  <tbody>\n",
       "    <tr>\n",
       "      <th>0</th>\n",
       "      <td>0</td>\n",
       "      <td>Movie</td>\n",
       "      <td>Dick Johnson Is Dead</td>\n",
       "      <td>Kirsten Johnson</td>\n",
       "      <td>NaN</td>\n",
       "      <td>United States</td>\n",
       "      <td>2020</td>\n",
       "      <td>PG-13</td>\n",
       "      <td>90 min</td>\n",
       "      <td>Documentaries</td>\n",
       "      <td>As her father nears the end of his life, filmm...</td>\n",
       "      <td>0</td>\n",
       "      <td>2021-09-25</td>\n",
       "      <td>2021</td>\n",
       "    </tr>\n",
       "    <tr>\n",
       "      <th>1</th>\n",
       "      <td>1</td>\n",
       "      <td>TV Show</td>\n",
       "      <td>Blood &amp; Water</td>\n",
       "      <td>NaN</td>\n",
       "      <td>Ama Qamata, Khosi Ngema, Gail Mabalane, Thaban...</td>\n",
       "      <td>South Africa</td>\n",
       "      <td>2021</td>\n",
       "      <td>TV-MA</td>\n",
       "      <td>2 Seasons</td>\n",
       "      <td>International TV Shows, TV Dramas, TV Mysteries</td>\n",
       "      <td>After crossing paths at a party, a Cape Town t...</td>\n",
       "      <td>19</td>\n",
       "      <td>2021-09-24</td>\n",
       "      <td>2021</td>\n",
       "    </tr>\n",
       "    <tr>\n",
       "      <th>2</th>\n",
       "      <td>2</td>\n",
       "      <td>TV Show</td>\n",
       "      <td>Ganglands</td>\n",
       "      <td>Julien Leclercq</td>\n",
       "      <td>Sami Bouajila, Tracy Gotoas, Samuel Jouy, Nabi...</td>\n",
       "      <td>NaN</td>\n",
       "      <td>2021</td>\n",
       "      <td>TV-MA</td>\n",
       "      <td>1 Season</td>\n",
       "      <td>Crime TV Shows, International TV Shows, TV Act...</td>\n",
       "      <td>To protect his family from a powerful drug lor...</td>\n",
       "      <td>9</td>\n",
       "      <td>2021-09-24</td>\n",
       "      <td>2021</td>\n",
       "    </tr>\n",
       "    <tr>\n",
       "      <th>3</th>\n",
       "      <td>3</td>\n",
       "      <td>TV Show</td>\n",
       "      <td>Jailbirds New Orleans</td>\n",
       "      <td>NaN</td>\n",
       "      <td>NaN</td>\n",
       "      <td>NaN</td>\n",
       "      <td>2021</td>\n",
       "      <td>TV-MA</td>\n",
       "      <td>1 Season</td>\n",
       "      <td>Docuseries, Reality TV</td>\n",
       "      <td>Feuds, flirtations and toilet talk go down amo...</td>\n",
       "      <td>0</td>\n",
       "      <td>2021-09-24</td>\n",
       "      <td>2021</td>\n",
       "    </tr>\n",
       "    <tr>\n",
       "      <th>4</th>\n",
       "      <td>4</td>\n",
       "      <td>TV Show</td>\n",
       "      <td>Kota Factory</td>\n",
       "      <td>NaN</td>\n",
       "      <td>Mayur More, Jitendra Kumar, Ranjan Raj, Alam K...</td>\n",
       "      <td>India</td>\n",
       "      <td>2021</td>\n",
       "      <td>TV-MA</td>\n",
       "      <td>2 Seasons</td>\n",
       "      <td>International TV Shows, Romantic TV Shows, TV ...</td>\n",
       "      <td>In a city of coaching centers known to train I...</td>\n",
       "      <td>8</td>\n",
       "      <td>2021-09-24</td>\n",
       "      <td>2021</td>\n",
       "    </tr>\n",
       "  </tbody>\n",
       "</table>\n",
       "</div>"
      ],
      "text/plain": [
       "   index     type                  title         director  \\\n",
       "0      0    Movie   Dick Johnson Is Dead  Kirsten Johnson   \n",
       "1      1  TV Show          Blood & Water              NaN   \n",
       "2      2  TV Show              Ganglands  Julien Leclercq   \n",
       "3      3  TV Show  Jailbirds New Orleans              NaN   \n",
       "4      4  TV Show           Kota Factory              NaN   \n",
       "\n",
       "                                                cast        country  \\\n",
       "0                                                NaN  United States   \n",
       "1  Ama Qamata, Khosi Ngema, Gail Mabalane, Thaban...   South Africa   \n",
       "2  Sami Bouajila, Tracy Gotoas, Samuel Jouy, Nabi...            NaN   \n",
       "3                                                NaN            NaN   \n",
       "4  Mayur More, Jitendra Kumar, Ranjan Raj, Alam K...          India   \n",
       "\n",
       "   release_year rating   duration  \\\n",
       "0          2020  PG-13     90 min   \n",
       "1          2021  TV-MA  2 Seasons   \n",
       "2          2021  TV-MA   1 Season   \n",
       "3          2021  TV-MA   1 Season   \n",
       "4          2021  TV-MA  2 Seasons   \n",
       "\n",
       "                                           listed_in  \\\n",
       "0                                      Documentaries   \n",
       "1    International TV Shows, TV Dramas, TV Mysteries   \n",
       "2  Crime TV Shows, International TV Shows, TV Act...   \n",
       "3                             Docuseries, Reality TV   \n",
       "4  International TV Shows, Romantic TV Shows, TV ...   \n",
       "\n",
       "                                         description  number_of_cast  \\\n",
       "0  As her father nears the end of his life, filmm...               0   \n",
       "1  After crossing paths at a party, a Cape Town t...              19   \n",
       "2  To protect his family from a powerful drug lor...               9   \n",
       "3  Feuds, flirtations and toilet talk go down amo...               0   \n",
       "4  In a city of coaching centers known to train I...               8   \n",
       "\n",
       "  date_added_cleaned  year_added  \n",
       "0         2021-09-25        2021  \n",
       "1         2021-09-24        2021  \n",
       "2         2021-09-24        2021  \n",
       "3         2021-09-24        2021  \n",
       "4         2021-09-24        2021  "
      ]
     },
     "execution_count": 26,
     "metadata": {},
     "output_type": "execute_result"
    }
   ],
   "source": [
    "df.head()"
   ]
  },
  {
   "cell_type": "code",
   "execution_count": 27,
   "id": "20ba82e4",
   "metadata": {
    "execution": {
     "iopub.execute_input": "2023-04-29T00:40:12.123306Z",
     "iopub.status.busy": "2023-04-29T00:40:12.122318Z",
     "iopub.status.idle": "2023-04-29T00:40:12.132548Z",
     "shell.execute_reply": "2023-04-29T00:40:12.131560Z"
    },
    "papermill": {
     "duration": 0.026642,
     "end_time": "2023-04-29T00:40:12.134905",
     "exception": false,
     "start_time": "2023-04-29T00:40:12.108263",
     "status": "completed"
    },
    "tags": []
   },
   "outputs": [
    {
     "data": {
      "text/plain": [
       "Movie      0.696151\n",
       "TV Show    0.303849\n",
       "Name: type, dtype: float64"
      ]
     },
     "execution_count": 27,
     "metadata": {},
     "output_type": "execute_result"
    }
   ],
   "source": [
    "df['type'].value_counts(normalize=True)"
   ]
  },
  {
   "cell_type": "markdown",
   "id": "3cb29fce",
   "metadata": {
    "papermill": {
     "duration": 0.012708,
     "end_time": "2023-04-29T00:40:12.160706",
     "exception": false,
     "start_time": "2023-04-29T00:40:12.147998",
     "status": "completed"
    },
    "tags": []
   },
   "source": [
    "relative frequency of movies still has the lead"
   ]
  },
  {
   "cell_type": "code",
   "execution_count": 28,
   "id": "9795d1d2",
   "metadata": {
    "execution": {
     "iopub.execute_input": "2023-04-29T00:40:12.189257Z",
     "iopub.status.busy": "2023-04-29T00:40:12.188297Z",
     "iopub.status.idle": "2023-04-29T00:40:12.203877Z",
     "shell.execute_reply": "2023-04-29T00:40:12.202919Z"
    },
    "papermill": {
     "duration": 0.032392,
     "end_time": "2023-04-29T00:40:12.206297",
     "exception": false,
     "start_time": "2023-04-29T00:40:12.173905",
     "status": "completed"
    },
    "tags": []
   },
   "outputs": [
    {
     "data": {
      "text/plain": [
       "year_added  type   \n",
       "2008        Movie       50.000000\n",
       "            TV Show     50.000000\n",
       "2009        Movie      100.000000\n",
       "2010        Movie      100.000000\n",
       "2011        Movie      100.000000\n",
       "2012        Movie      100.000000\n",
       "2013        Movie       54.545455\n",
       "            TV Show     45.454545\n",
       "2014        Movie       79.166667\n",
       "            TV Show     20.833333\n",
       "2015        Movie       68.292683\n",
       "            TV Show     31.707317\n",
       "2016        Movie       58.974359\n",
       "            TV Show     41.025641\n",
       "2017        Movie       70.622896\n",
       "            TV Show     29.377104\n",
       "2018        Movie       74.562990\n",
       "            TV Show     25.437010\n",
       "2019        Movie       70.634921\n",
       "            TV Show     29.365079\n",
       "2020        Movie       68.334220\n",
       "            TV Show     31.665780\n",
       "2021        Movie       66.288385\n",
       "            TV Show     33.711615\n",
       "Name: type, dtype: float64"
      ]
     },
     "execution_count": 28,
     "metadata": {},
     "output_type": "execute_result"
    }
   ],
   "source": [
    "df.groupby('year_added')['type'].value_counts(normalize=True)*100"
   ]
  },
  {
   "cell_type": "code",
   "execution_count": 29,
   "id": "49e409af",
   "metadata": {
    "execution": {
     "iopub.execute_input": "2023-04-29T00:40:12.235308Z",
     "iopub.status.busy": "2023-04-29T00:40:12.234152Z",
     "iopub.status.idle": "2023-04-29T00:40:12.246972Z",
     "shell.execute_reply": "2023-04-29T00:40:12.245619Z"
    },
    "papermill": {
     "duration": 0.030163,
     "end_time": "2023-04-29T00:40:12.249584",
     "exception": false,
     "start_time": "2023-04-29T00:40:12.219421",
     "status": "completed"
    },
    "tags": []
   },
   "outputs": [
    {
     "data": {
      "text/plain": [
       "Series([], Name: title, dtype: object)"
      ]
     },
     "execution_count": 29,
     "metadata": {},
     "output_type": "execute_result"
    }
   ],
   "source": [
    "dups=df.duplicated(['title'])\n",
    "df[dups]['title']"
   ]
  },
  {
   "cell_type": "markdown",
   "id": "fba04271",
   "metadata": {
    "papermill": {
     "duration": 0.012847,
     "end_time": "2023-04-29T00:40:12.275668",
     "exception": false,
     "start_time": "2023-04-29T00:40:12.262821",
     "status": "completed"
    },
    "tags": []
   },
   "source": [
    "We can say that Netflix begin to focus on TV-Shows,but Movies still has the lead in evey year.\n",
    "\n"
   ]
  },
  {
   "cell_type": "code",
   "execution_count": 30,
   "id": "cb77ca65",
   "metadata": {
    "execution": {
     "iopub.execute_input": "2023-04-29T00:40:12.303969Z",
     "iopub.status.busy": "2023-04-29T00:40:12.303546Z",
     "iopub.status.idle": "2023-04-29T00:40:12.310020Z",
     "shell.execute_reply": "2023-04-29T00:40:12.308848Z"
    },
    "papermill": {
     "duration": 0.023754,
     "end_time": "2023-04-29T00:40:12.312640",
     "exception": false,
     "start_time": "2023-04-29T00:40:12.288886",
     "status": "completed"
    },
    "tags": []
   },
   "outputs": [],
   "source": [
    "for i in df[dups]['title'].values:\n",
    "    print(df[df['title']==i][['title','type','release_year','country']])\n",
    "    print('-'*40)"
   ]
  },
  {
   "cell_type": "code",
   "execution_count": 31,
   "id": "2212079a",
   "metadata": {
    "execution": {
     "iopub.execute_input": "2023-04-29T00:40:12.341962Z",
     "iopub.status.busy": "2023-04-29T00:40:12.341120Z",
     "iopub.status.idle": "2023-04-29T00:40:12.664116Z",
     "shell.execute_reply": "2023-04-29T00:40:12.662839Z"
    },
    "papermill": {
     "duration": 0.340354,
     "end_time": "2023-04-29T00:40:12.666727",
     "exception": false,
     "start_time": "2023-04-29T00:40:12.326373",
     "status": "completed"
    },
    "tags": []
   },
   "outputs": [
    {
     "data": {
      "image/png": "[encoded data removed]",
      "text/plain": [
       "<Figure size 1000x800 with 1 Axes>"
      ]
     },
     "metadata": {},
     "output_type": "display_data"
    }
   ],
   "source": [
    "plt.figure(figsize=(10,8))\n",
    "df['year_added'].value_counts().plot.bar()\n",
    "plt.title('distribution of year-added')\n",
    "plt.ylabel('relative frequency')\n",
    "plt.xlabel('year_added')\n",
    "plt.show()"
   ]
  },
  {
   "cell_type": "markdown",
   "id": "22dcfac8",
   "metadata": {
    "papermill": {
     "duration": 0.013333,
     "end_time": "2023-04-29T00:40:12.693917",
     "exception": false,
     "start_time": "2023-04-29T00:40:12.680584",
     "status": "completed"
    },
    "tags": []
   },
   "source": [
    "2018 is remarkable year for netflix\n",
    "\n"
   ]
  },
  {
   "cell_type": "code",
   "execution_count": 32,
   "id": "f2be0745",
   "metadata": {
    "execution": {
     "iopub.execute_input": "2023-04-29T00:40:12.723619Z",
     "iopub.status.busy": "2023-04-29T00:40:12.722883Z",
     "iopub.status.idle": "2023-04-29T00:40:12.732889Z",
     "shell.execute_reply": "2023-04-29T00:40:12.731599Z"
    },
    "papermill": {
     "duration": 0.027612,
     "end_time": "2023-04-29T00:40:12.735176",
     "exception": false,
     "start_time": "2023-04-29T00:40:12.707564",
     "status": "completed"
    },
    "tags": []
   },
   "outputs": [
    {
     "name": "stdout",
     "output_type": "stream",
     "text": [
      "number of contents that its release year differ from the year added to netflix are  5565\n"
     ]
    }
   ],
   "source": [
    "counts=0\n",
    "for i,j in zip(df['release_year'].values,df['year_added'].values):\n",
    "    if i!=j:\n",
    "        counts+=1\n",
    "print('number of contents that its release year differ from the year added to netflix are ',str(counts))\n"
   ]
  }
 ],
 "metadata": {
  "kernelspec": {
   "display_name": "Python 3",
   "language": "python",
   "name": "python3"
  },
  "language_info": {
   "codemirror_mode": {
    "name": "ipython",
    "version": 3
   },
   "file_extension": ".py",
   "mimetype": "text/x-python",
   "name": "python",
   "nbconvert_exporter": "python",
   "pygments_lexer": "ipython3",
   "version": "3.7.12"
  },
  "papermill": {
   "default_parameters": {},
   "duration": 15.576091,
   "end_time": "2023-04-29T00:40:13.471542",
   "environment_variables": {},
   "exception": null,
   "input_path": "__notebook__.ipynb",
   "output_path": "__notebook__.ipynb",
   "parameters": {},
   "start_time": "2023-04-29T00:39:57.895451",
   "version": "2.4.0"
  }
 },
 "nbformat": 4,
 "nbformat_minor": 5
}
